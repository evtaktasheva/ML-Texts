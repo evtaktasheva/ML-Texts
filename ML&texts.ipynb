{
 "cells": [
  {
   "cell_type": "markdown",
   "metadata": {},
   "source": [
    "# Тестовое задание ML&Texts, ЛШ2020\n",
    "**Выполнила:** Екатерина Такташева\n",
    "## Задание 1\n",
    "\n",
    "Импортируем все необходимые для решения модули:"
   ]
  },
  {
   "cell_type": "code",
   "execution_count": 93,
   "metadata": {},
   "outputs": [],
   "source": [
    "import json\n",
    "from pprint import pprint\n",
    "import numpy as np\n",
    "from collections import Counter\n",
    "from string import punctuation\n",
    "from nltk.corpus import stopwords\n",
    "stopwords = set(stopwords.words('russian'))\n",
    "from pymystem3 import Mystem\n",
    "ms = Mystem()"
   ]
  },
  {
   "cell_type": "markdown",
   "metadata": {},
   "source": [
    "Считываем .json файл:"
   ]
  },
  {
   "cell_type": "code",
   "execution_count": 3,
   "metadata": {},
   "outputs": [],
   "source": [
    "with open('letnyayashkola_vk.json', 'r', encoding='utf-8') as fid:\n",
    "    data = json.load(fid)"
   ]
  },
  {
   "cell_type": "markdown",
   "metadata": {},
   "source": [
    "Вспомогательные функции:"
   ]
  },
  {
   "cell_type": "code",
   "execution_count": 6,
   "metadata": {},
   "outputs": [],
   "source": [
    "def clear_punct(text: str) -> str:\n",
    "    \n",
    "    \"\"\"\n",
    "    Gets rid of punctuation in the string\n",
    "    and converts to lower case\n",
    "    \"\"\"\n",
    "    \n",
    "    PUNCT = list(punctuation) + [' - ', '- ', ' -', '«', '»', '—', '–']\n",
    "    text = text.lower()\n",
    "    for char in PUNCT:\n",
    "        text = text.replace(char, '')\n",
    "    return text"
   ]
  },
  {
   "cell_type": "code",
   "execution_count": 7,
   "metadata": {},
   "outputs": [],
   "source": [
    "def preprocess(text: str) -> str:\n",
    "    \n",
    "    \"\"\"\n",
    "    Clears the string from punctuation and\n",
    "    stopwords, lemmatizes words\n",
    "    \"\"\"\n",
    "    \n",
    "    text = clear_punct(text)\n",
    "    words = text.split()\n",
    "    cleared_text = []\n",
    "    for word in words:\n",
    "        if word not in stopwords:\n",
    "            cleared_text.append(word)\n",
    "    return ' '.join(cleared_text).strip()"
   ]
  },
  {
   "cell_type": "code",
   "execution_count": 8,
   "metadata": {},
   "outputs": [],
   "source": [
    "def parse_posts(data: dict) -> np.array:\n",
    "    \n",
    "    \"\"\"\n",
    "    Parses the dictionary and creates a\n",
    "    numpy array with objects of the form\n",
    "    [post_text, comments_text]\n",
    "    \"\"\"\n",
    "    \n",
    "    posts = []\n",
    "    for post in data:\n",
    "        comments_texts = []\n",
    "        for comment in post['textcomment']['items']:\n",
    "            comments_texts.append(comment['text'])\n",
    "        comments = ' '.join(comments_texts)\n",
    "        posts.append([preprocess(post['text']), preprocess(comments)])\n",
    "    return np.array(posts)"
   ]
  },
  {
   "cell_type": "code",
   "execution_count": 96,
   "metadata": {},
   "outputs": [],
   "source": [
    "def lemmas(data: np.array):\n",
    "    \n",
    "    \"\"\"\n",
    "    Lemmatizes text in data array\n",
    "    \"\"\"\n",
    "    \n",
    "    for item in data:\n",
    "        item[0] = ' '.join(ms.lemmatize(item[0]))\n",
    "        item[1] = ' '.join(ms.lemmatize(item[1]))\n",
    "    return data"
   ]
  },
  {
   "cell_type": "markdown",
   "metadata": {},
   "source": [
    "Обработаем данные:"
   ]
  },
  {
   "cell_type": "code",
   "execution_count": 73,
   "metadata": {},
   "outputs": [],
   "source": [
    "text_data = parse_posts(data)  # создаем массив данных"
   ]
  },
  {
   "cell_type": "code",
   "execution_count": 97,
   "metadata": {},
   "outputs": [
    {
     "name": "stdout",
     "output_type": "stream",
     "text": [
      "CPU times: user 4.21 s, sys: 1.61 s, total: 5.82 s\n",
      "Wall time: 29.3 s\n"
     ]
    }
   ],
   "source": [
    "%%time\n",
    "lem_text_data = lemmas(text_data)"
   ]
  },
  {
   "cell_type": "code",
   "execution_count": 100,
   "metadata": {},
   "outputs": [
    {
     "data": {
      "text/plain": [
       "array([['распространение   пандемия   covid19   набирать   оборот   оргкомитет   летний   школа   получать   все   тревожный   вопрос   судьба   лш2020   считать   мы   пора   рассказывать   наш   отношение   происходить   короче   планировать   начинать   набор   участник   1   апрель \\n',\n",
       "        ''],\n",
       "       ['среда   1   апрель   начинаться   набор   мастерская   сезон   2020   признаваться   изза   весь   кутерьма   называть   сомнение   никуда   деваться   ситуация   обескураживать   заставлять   просчитывать   запасной   вариант   выдумывать   новый   кульбит   искать   позабывать   придумывать   решение   читать   наш   манифест   быть   откровенный   чтото   вроде   манифест   знать   один   основополагающий   принцип   лш   это   сделать   невозможный   это   сделать   поэтому   быть   уверенный   сомнение   оставаться   смотреть   будущее   надежда   15   неделя   осталосьдо   лш2020 \\n',\n",
       "        'крайний   случай   лш   уходить   дистанционка \\n'],\n",
       "       ['время   оставаться   10   день   начинать   прием   мастерская   16   неделя   осталосьдо   лш2020 \\n',\n",
       "        'список   мастерская   известный   летний   школа   платный   здравствовать   лагерь   запрещать   связь   карантин   рекомендованный   ребенок   держать   дом   покидать   регион   конец   май   обучение   дистанционный \\n']],\n",
       "      dtype='<U31017')"
      ]
     },
     "execution_count": 100,
     "metadata": {},
     "output_type": "execute_result"
    }
   ],
   "source": [
    "lem_text_data[:3]"
   ]
  },
  {
   "cell_type": "markdown",
   "metadata": {},
   "source": [
    "Найдем самые частотные слова в постах и комментариях отдельно:"
   ]
  },
  {
   "cell_type": "code",
   "execution_count": 11,
   "metadata": {},
   "outputs": [],
   "source": [
    "def get_freq(data: np.array, ind: int) -> dict:\n",
    "    \n",
    "    \"\"\"\n",
    "    ind - index of the object:\n",
    "    0 for the text of the posts\n",
    "    1 for the comments\n",
    "    \n",
    "    Returns a frequency dictionary\n",
    "    of the chosen object type\n",
    "    \"\"\"\n",
    "    freq = Counter()\n",
    "    for obj in text_data:\n",
    "        words = obj[ind].split()\n",
    "        freq += Counter(words)\n",
    "    return freq"
   ]
  },
  {
   "cell_type": "code",
   "execution_count": 101,
   "metadata": {},
   "outputs": [
    {
     "name": "stdout",
     "output_type": "stream",
     "text": [
      "CPU times: user 10.3 s, sys: 711 ms, total: 11 s\n",
      "Wall time: 11.8 s\n"
     ]
    }
   ],
   "source": [
    "%%time\n",
    "most_comm_posts = get_freq(text_data, 0).most_common()\n",
    "most_comm_comm = get_freq(text_data, 1).most_common()"
   ]
  },
  {
   "cell_type": "markdown",
   "metadata": {},
   "source": [
    "Импортируем модули для визуализации:"
   ]
  },
  {
   "cell_type": "code",
   "execution_count": 102,
   "metadata": {},
   "outputs": [],
   "source": [
    "import matplotlib.pyplot as plt\n",
    "%matplotlib inline\n",
    "import numpy as np\n",
    "import seaborn as sns\n",
    "from matplotlib import style\n",
    "style.use('ggplot')"
   ]
  },
  {
   "cell_type": "markdown",
   "metadata": {},
   "source": [
    "**Построим список самых частотных слов в постах:**"
   ]
  },
  {
   "cell_type": "code",
   "execution_count": 103,
   "metadata": {},
   "outputs": [
    {
     "data": {
      "image/png": "[encoded data removed]",
      "text/plain": [
       "<Figure size 1080x360 with 1 Axes>"
      ]
     },
     "metadata": {},
     "output_type": "display_data"
    }
   ],
   "source": [
    "plt.figure(figsize=(15, 5))\n",
    "plt.bar(range(50), [i[1] for i in most_comm_posts[:50]])\n",
    "plt.xticks(range(50), [i[0] for i in most_comm_posts[:50]], rotation=90)\n",
    "plt.title('Most frequent words in posts')\n",
    "plt.xlabel('Words')\n",
    "plt.ylabel('Frequency');"
   ]
  },
  {
   "cell_type": "markdown",
   "metadata": {},
   "source": [
    "Заметим, что самыми частотными оказались ожидаемые для группы слова типа *школа, матсерская, летний, лш, цикл* и др., а самыми частотными глаглами оказались *быть, ехать, писать, хотеть, приезжать, расказывать и помогать*, часть из которых в принципе частотна, а часть очень свойственна постам в группе, посыл которых - информация о матсерских и том, как можно приехать на ЛШ. Интересно, что из названий мастерских встретилась только журналистика, хотя это может быть связано с тем, что были скачаны не все посты. Еще в список частотных слов попала 1, что сначала показалось странным, а потом стало понятным, что это скорее всего связано а тем, что в постах часто упоминаются номера циклов, а также информация о количестве дней до начала школы и похожая информация. Приятно, что одними из самых частотных слов оказались *спасибо* и *пожалуйста*)\n",
    "\n",
    "**Теперь список самых частотных слов в комментариях:**"
   ]
  },
  {
   "cell_type": "code",
   "execution_count": 104,
   "metadata": {},
   "outputs": [
    {
     "data": {
      "image/png": "[encoded data removed]",
      "text/plain": [
       "<Figure size 1080x360 with 1 Axes>"
      ]
     },
     "metadata": {},
     "output_type": "display_data"
    }
   ],
   "source": [
    "plt.figure(figsize=(15, 5))\n",
    "plt.bar(range(50), [i[1] for i in most_comm_comm[:50]])\n",
    "plt.xticks(range(50), [i[0] for i in most_comm_comm[:50]], rotation=90)\n",
    "plt.title('Most frequent words in comments')\n",
    "plt.xlabel('Words')\n",
    "plt.ylabel('Frequency');"
   ]
  },
  {
   "cell_type": "markdown",
   "metadata": {},
   "source": [
    "В текстах комментариев в список самых частотных слов также попали ожидаемые *мастерская, школа, лш, цикл* и другие, аналогично с глаголами. При этом в комментариях часто упоминаются слова *вопрос, анкета, заявка, автобус, время* и др., что говорит о том, что, возможно, под постами часто задают вопросы о том, как попасть на ЛШ, в том числе буквально на каком транспорте добраться, когда она проходит и похожая информация, что логично. Еще в список частотных слов попал тэг кого-то из админов группы, которого видимо часто отмечают для ответа на вопрос. "
   ]
  },
  {
   "cell_type": "markdown",
   "metadata": {},
   "source": [
    " ## Задание 2.1"
   ]
  },
  {
   "cell_type": "markdown",
   "metadata": {},
   "source": [
    "Импортируем нужные модули:"
   ]
  },
  {
   "cell_type": "code",
   "execution_count": 17,
   "metadata": {},
   "outputs": [],
   "source": [
    "import os\n",
    "import mimetypes"
   ]
  },
  {
   "cell_type": "markdown",
   "metadata": {},
   "source": [
    "Вспомогательные функции:"
   ]
  },
  {
   "cell_type": "code",
   "execution_count": 63,
   "metadata": {},
   "outputs": [],
   "source": [
    "def update_counter(file: str, freq: dict):\n",
    "    \n",
    "    \"\"\"\n",
    "    Adds new words and their frequences\n",
    "    to the dictionary\n",
    "    \"\"\"\n",
    "    \n",
    "    with open(file, 'r', encoding='utf-8') as fid:\n",
    "        text = fid.read()\n",
    "    words = text.strip().split()\n",
    "    freq += Counter(words)"
   ]
  },
  {
   "cell_type": "markdown",
   "metadata": {},
   "source": [
    "Пройдем по папкам и создадим словарь частотности встретившихся в текстовых файлах слов:\n",
    "\n",
    "P.S. для проверки файла на бинарность/тектовость используется модуль mimetypes (https://docs.python.org/3.6/library/mimetypes.html)"
   ]
  },
  {
   "cell_type": "code",
   "execution_count": 64,
   "metadata": {},
   "outputs": [],
   "source": [
    "freq_dict = Counter()\n",
    "for root, dirs, files in os.walk('dirs_task'):\n",
    "    for file in files:\n",
    "        path = os.path.join(root, file)\n",
    "        file_type = mimetypes.guess_type(path)  # достает тип файла\n",
    "        if file_type[0] and 'text' in file_type[0]:  # отсеивает бинарные файлы\n",
    "            update_counter(path, freq_dict) "
   ]
  },
  {
   "cell_type": "markdown",
   "metadata": {},
   "source": [
    "Посмотрим на список самых частотных слов:"
   ]
  },
  {
   "cell_type": "code",
   "execution_count": 67,
   "metadata": {},
   "outputs": [
    {
     "data": {
      "text/plain": [
       "[('meow', 11), ('woof', 3), ('bark', 3), ('murr', 1)]"
      ]
     },
     "execution_count": 67,
     "metadata": {},
     "output_type": "execute_result"
    }
   ],
   "source": [
    "freq_dict.most_common()"
   ]
  },
  {
   "cell_type": "markdown",
   "metadata": {},
   "source": [
    "P.S. в этом задании слова так же можно лемматизировать при помощи того же mystem'а для получения лучшего результата в зависимости от сожержания и целей создания частотного списка"
   ]
  },
  {
   "cell_type": "markdown",
   "metadata": {},
   "source": [
    "## Задание 3"
   ]
  },
  {
   "cell_type": "markdown",
   "metadata": {},
   "source": [
    "Считываем тектовый файл дла работы и список стопслов для русского языка:"
   ]
  },
  {
   "cell_type": "code",
   "execution_count": 124,
   "metadata": {},
   "outputs": [],
   "source": [
    "with open('female.txt', encoding='utf-8') as fid:\n",
    "    text = fid.read()\n",
    "with open('stopwords-ru.txt', encoding='utf-8') as f:\n",
    "    stopwords = f.read().split()"
   ]
  },
  {
   "cell_type": "markdown",
   "metadata": {},
   "source": [
    "Используем написанную в задании 1 функцию для очистки текста:"
   ]
  },
  {
   "cell_type": "code",
   "execution_count": 125,
   "metadata": {},
   "outputs": [],
   "source": [
    "text = preprocess(text)"
   ]
  },
  {
   "cell_type": "markdown",
   "metadata": {},
   "source": [
    "Поскольку мы просто хотим посмотреть на список частотных слов, то лемматизируем текст:"
   ]
  },
  {
   "cell_type": "code",
   "execution_count": 127,
   "metadata": {},
   "outputs": [
    {
     "name": "stdout",
     "output_type": "stream",
     "text": [
      "CPU times: user 44.8 ms, sys: 6.66 ms, total: 51.5 ms\n",
      "Wall time: 243 ms\n"
     ]
    }
   ],
   "source": [
    "%%time\n",
    "text = ''.join(ms.lemmatize(text))"
   ]
  },
  {
   "cell_type": "markdown",
   "metadata": {},
   "source": [
    "Посмотрим на список 20 самых частотных слов:"
   ]
  },
  {
   "cell_type": "code",
   "execution_count": 129,
   "metadata": {},
   "outputs": [],
   "source": [
    "freq_words = Counter(text.split()).most_common()[:20]"
   ]
  },
  {
   "cell_type": "code",
   "execution_count": 130,
   "metadata": {},
   "outputs": [
    {
     "data": {
      "text/plain": [
       "[('the', 175),\n",
       " ('of', 118),\n",
       " ('project', 87),\n",
       " ('to', 80),\n",
       " ('or', 78),\n",
       " ('and', 70),\n",
       " ('you', 69),\n",
       " ('in', 57),\n",
       " ('a', 57),\n",
       " ('gutenbergtm', 56),\n",
       " ('женщина', 52),\n",
       " ('this', 49),\n",
       " ('with', 47),\n",
       " ('work', 45),\n",
       " ('any', 37),\n",
       " ('works', 32),\n",
       " ('gutenberg', 29),\n",
       " ('движение', 28),\n",
       " ('рабочий', 27),\n",
       " ('electronic', 27)]"
      ]
     },
     "execution_count": 130,
     "metadata": {},
     "output_type": "execute_result"
    }
   ],
   "source": [
    "freq_words"
   ]
  },
  {
   "cell_type": "markdown",
   "metadata": {},
   "source": [
    "Как можно заметить, в список попали не только русские слова, но поскольку мы хотим посмотреть на частотные русские слова, очистим текст от латинских символов с помощью регулярных выражений:"
   ]
  },
  {
   "cell_type": "code",
   "execution_count": 131,
   "metadata": {},
   "outputs": [],
   "source": [
    "import re"
   ]
  },
  {
   "cell_type": "code",
   "execution_count": 132,
   "metadata": {},
   "outputs": [],
   "source": [
    "russian_text = re.sub(r'[A-Za-z]', '', text)"
   ]
  },
  {
   "cell_type": "markdown",
   "metadata": {},
   "source": [
    "Посмотрим на новый частотный список:"
   ]
  },
  {
   "cell_type": "code",
   "execution_count": 133,
   "metadata": {},
   "outputs": [],
   "source": [
    "freq_words_ru = Counter(russian_text.split()).most_common()[:20]"
   ]
  },
  {
   "cell_type": "code",
   "execution_count": 134,
   "metadata": {},
   "outputs": [
    {
     "data": {
      "text/plain": [
       "[('женщина', 52),\n",
       " ('движение', 28),\n",
       " ('рабочий', 27),\n",
       " ('борьба', 26),\n",
       " ('женский', 25),\n",
       " ('война', 23),\n",
       " ('работница', 22),\n",
       " ('партия', 20),\n",
       " ('организация', 19),\n",
       " ('социалистический', 17),\n",
       " ('страна', 17),\n",
       " ('конференция', 16),\n",
       " ('свой', 14),\n",
       " ('который', 13),\n",
       " ('коммунистический', 12),\n",
       " ('союз', 11),\n",
       " ('масса', 11),\n",
       " ('социальный', 11),\n",
       " ('принимать', 11),\n",
       " ('1', 11)]"
      ]
     },
     "execution_count": 134,
     "metadata": {},
     "output_type": "execute_result"
    }
   ],
   "source": [
    "freq_words_ru"
   ]
  },
  {
   "cell_type": "markdown",
   "metadata": {},
   "source": [
    "**Построим график:**"
   ]
  },
  {
   "cell_type": "code",
   "execution_count": 135,
   "metadata": {},
   "outputs": [
    {
     "data": {
      "image/png": "[encoded data removed]",
      "text/plain": [
       "<Figure size 1080x360 with 1 Axes>"
      ]
     },
     "metadata": {},
     "output_type": "display_data"
    }
   ],
   "source": [
    "plt.figure(figsize=(15, 5))\n",
    "plt.bar(range(20), [i[1] for i in freq_words_ru])\n",
    "plt.xticks(range(20), [i[0] for i in freq_words_ru], rotation=90)\n",
    "plt.title('Top-20 most frequent words in text')\n",
    "plt.xlabel('Words')\n",
    "plt.ylabel('Frequency');"
   ]
  },
  {
   "cell_type": "markdown",
   "metadata": {},
   "source": [
    "Как и стоило ожидать, в список частотных слов попали слова *женщина, движение, рабочий, борьба* и тд., которые точно отображают тематику и сожердание текста, написанного о женском международном движении.\n",
    "\n",
    "\n",
    "P.S. Заметим, что в список попало число 1, которое часто встречается в описании файла в вещах типа \"paragraphs 1e1 through 1e7\", но я решила не удалять все числовые символы, поскольку в таком случае можно потерять, например, года, а они могут упоминаться часто и могут дать информацию о тексте. + Удаление таких последовательностей кажется нерациональным, поскольку это скорее выборосы, чем частые occurences, поэтому при работе с бОльшим текстом они скорее не попадут в список самых частотных слов. "
   ]
  },
  {
   "cell_type": "markdown",
   "metadata": {},
   "source": [
    "## Задание 4"
   ]
  },
  {
   "cell_type": "markdown",
   "metadata": {},
   "source": [
    "Считаем файлы с нужными изменениями и создадим словарь вида: {слово: его замена}"
   ]
  },
  {
   "cell_type": "code",
   "execution_count": 401,
   "metadata": {},
   "outputs": [],
   "source": [
    "with open('changes.csv', encoding='utf-8') as fid:\n",
    "    table = fid.readlines()\n",
    "changes = {}\n",
    "for line in table[1:]:\n",
    "    line = line.strip().split(',')\n",
    "    changes[line[0]] = line[1]"
   ]
  },
  {
   "cell_type": "code",
   "execution_count": 402,
   "metadata": {},
   "outputs": [
    {
     "data": {
      "text/plain": [
       "{'языка': 'носка',\n",
       " 'сосочки': 'сосиски',\n",
       " 'слизистой': 'пряной',\n",
       " 'язык': 'носок',\n",
       " 'мышца': 'мать',\n",
       " 'оболочка': 'клетка',\n",
       " 'и': 'авось',\n",
       " 'поверхности': 'кафеля',\n",
       " 'клеток': 'плотков',\n",
       " 'ежи': 'страусы',\n",
       " 'ежей': 'страусов',\n",
       " 'в': 'снаружи',\n",
       " 'обычно': 'никогда',\n",
       " 'животные': 'люди',\n",
       " 'находится': 'бывает',\n",
       " 'иглы': 'прутья',\n",
       " 'себя': 'их',\n",
       " 'довольно': 'недовольно',\n",
       " 'еж': 'страус',\n",
       " 'высокотоксичный': 'высокоградусный',\n",
       " 'субкультуры ': 'сцены',\n",
       " 'готической': 'эмо',\n",
       " 'или': 'дабы',\n",
       " 'для': 'вестимо',\n",
       " 'готов': 'эмо',\n",
       " 'представителей': 'коллеги',\n",
       " 'готы': 'эмо',\n",
       " 'можно': 'нельзя',\n",
       " 'между': 'вне',\n",
       " 'элементы': 'контрагенты',\n",
       " 'время': 'бремя',\n",
       " 'популярность': 'мизерность',\n",
       " 'поклонники': 'эщкере'}"
      ]
     },
     "execution_count": 402,
     "metadata": {},
     "output_type": "execute_result"
    }
   ],
   "source": [
    "changes"
   ]
  },
  {
   "cell_type": "markdown",
   "metadata": {},
   "source": [
    "Считаем все тексты в одну переменную:"
   ]
  },
  {
   "cell_type": "code",
   "execution_count": 641,
   "metadata": {},
   "outputs": [],
   "source": [
    "with open('Готы (субкультура) — Википедия.html', encoding='utf-8') as fid:\n",
    "    text = fid.read()\n",
    "with open('Обыкновенный ёж — Википедия.html', encoding='utf-8') as fid:\n",
    "    text += fid.read()\n",
    "with open('Язык (анатомия) — Википедия.html', encoding='utf-8') as fid:\n",
    "    text += fid.read()"
   ]
  },
  {
   "cell_type": "markdown",
   "metadata": {},
   "source": [
    "Циклом пройдем по всем заменам и тексту, заменяя по слова на их соответсвия в словаре:"
   ]
  },
  {
   "cell_type": "code",
   "execution_count": 642,
   "metadata": {
    "scrolled": true
   },
   "outputs": [],
   "source": [
    "for word, change in changes.items():\n",
    "    pattern_1 = r'(\\b|_)' + word + r'(\\b|_)'  # шаблон для замены слов со строчной\n",
    "    change_1 = r'\\g<1>' + change + r'\\g<2>'\n",
    "    text = re.sub(pattern_1, change_1, text)  \n",
    "    pattern_2 = r'(\\b|_)' + word.title() + r'(\\b|_)'  # шаблон для замены слов с прописной\n",
    "    change_2 = r'\\g<1>' + change.title() + r'\\g<2>'\n",
    "    text = re.sub(pattern_2, change_2, text)"
   ]
  },
  {
   "cell_type": "markdown",
   "metadata": {},
   "source": [
    "Запишем полученный текст в новый файл:"
   ]
  },
  {
   "cell_type": "code",
   "execution_count": 644,
   "metadata": {},
   "outputs": [],
   "source": [
    "with open('output.html', 'w', encoding='utf-8') as fid:\n",
    "    fid.write(text)"
   ]
  },
  {
   "cell_type": "markdown",
   "metadata": {},
   "source": [
    "P.S. В задании я столкнулось с проблемой, заключающейся в том, что, несмотря на то, что позиционируется как любой небуквенный символ, \\b в юникоде не учитывает числа и знак _ (что грустно), поэтому приходится использовать запоминающие группы, если необходимо заменять тектс внутри ссылок. При этом в регулярных выражениях числа не учитываются, поскольку в текстах и ссылках они не встречаются сразу перед или после слов + добавить их при неоюходимости не сложно."
   ]
  }
 ],
 "metadata": {
  "kernelspec": {
   "display_name": "Python 3",
   "language": "python",
   "name": "python3"
  },
  "language_info": {
   "codemirror_mode": {
    "name": "ipython",
    "version": 3
   },
   "file_extension": ".py",
   "mimetype": "text/x-python",
   "name": "python",
   "nbconvert_exporter": "python",
   "pygments_lexer": "ipython3",
   "version": "3.7.6"
  }
 },
 "nbformat": 4,
 "nbformat_minor": 4
}
